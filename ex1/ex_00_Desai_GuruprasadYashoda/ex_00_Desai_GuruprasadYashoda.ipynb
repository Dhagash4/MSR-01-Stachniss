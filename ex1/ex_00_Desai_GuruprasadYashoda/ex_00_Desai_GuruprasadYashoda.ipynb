{
 "cells": [
  {
   "cell_type": "markdown",
   "metadata": {
    "colab_type": "text",
    "id": "_9AUf92xlSWe"
   },
   "source": [
    "# **Python Tutorial - Exercise**\n",
    "This Jupyter-Notebook script is a collection of exercises for the [introduction to python](https://www.ipb.uni-bonn.de/python-intro/).\n",
    "\n",
    "For the submission make sure to...\n",
    "- rename this file (ex-00-yourLastname.ipynb)\n",
    "- answer all questions in this file. \n",
    "- run the script from the beginning to the end (restart kernel and run whole notebook: '>>'-Button)\n",
    "- submit all necessary files to run this script (e.g. .zip/.tar)\n",
    "\n",
    "#### **Points: [40]**"
   ]
  },
  {
   "cell_type": "markdown",
   "metadata": {
    "colab_type": "text",
    "id": "lyiuIM9_lSWg"
   },
   "source": [
    "## **A. Variables [2]**\n",
    "\n",
    "A variable is a container for a value, which can be of various types, e.g., int, float, str..."
   ]
  },
  {
   "cell_type": "markdown",
   "metadata": {
    "colab_type": "text",
    "id": "yDx-pmyrlSWk"
   },
   "source": [
    "**Task**: Define two variables $x$ and $y$ and compute their divsion and sum. Let $x = 10$ and $y=3$. **Print out** the **type** of $x$, $y$, $\\frac{x}{y}$ and $x+y$ as well as the **result** of their divsion and sum. **[2]**"
   ]
  },
  {
   "cell_type": "code",
   "execution_count": 1,
   "metadata": {
    "colab": {},
    "colab_type": "code",
    "id": "j1Jpte9llSWk"
   },
   "outputs": [],
   "source": [
    "# Define the variables in this cell\n",
    "\n",
    "x = 10\n",
    "y = 3"
   ]
  },
  {
   "cell_type": "code",
   "execution_count": 2,
   "metadata": {
    "colab": {},
    "colab_type": "code",
    "id": "GYcSZk5nlSWp"
   },
   "outputs": [],
   "source": [
    "# Compute the divsion of both variables\n",
    "\n",
    "div =  x/y\n"
   ]
  },
  {
   "cell_type": "code",
   "execution_count": 3,
   "metadata": {
    "colab": {},
    "colab_type": "code",
    "id": "lKL-hgMklSWt"
   },
   "outputs": [],
   "source": [
    "# Compute the sum of both variables\n",
    "\n",
    "sum = x+y\n"
   ]
  },
  {
   "cell_type": "code",
   "execution_count": 4,
   "metadata": {
    "colab": {
     "base_uri": "https://localhost:8080/",
     "height": 34
    },
    "colab_type": "code",
    "id": "D_JicqawlSWx",
    "outputId": "0d28a4e3-b822-421a-ce44-8423dca2072a"
   },
   "outputs": [
    {
     "name": "stdout",
     "output_type": "stream",
     "text": [
      "Data Type x: <class 'int'>, Data Type y: <class 'int'>, Data Type divsion: <class 'float'>, Data Type sum: <class 'int'>\n"
     ]
    }
   ],
   "source": [
    "# Print out the data types in this cell\n",
    "\n",
    "print(\"Data Type x: %s, Data Type y: %s, Data Type divsion: %s, Data Type sum: %s\"%(type(x),type(y),type(div),type(sum)))"
   ]
  },
  {
   "cell_type": "code",
   "execution_count": 5,
   "metadata": {
    "colab": {
     "base_uri": "https://localhost:8080/",
     "height": 34
    },
    "colab_type": "code",
    "id": "OI38Ot-AlSW2",
    "outputId": "e0da37cb-a52a-4610-abb1-9a6ef78e4f9f"
   },
   "outputs": [
    {
     "name": "stdout",
     "output_type": "stream",
     "text": [
      "Result Divsion: 3.333333, Result Sum: 13\n"
     ]
    }
   ],
   "source": [
    "# Print out the result of the divison and sum in this cell\n",
    "\n",
    "print(\"Result Divsion: %f, Result Sum: %d\"%(div,sum))"
   ]
  },
  {
   "cell_type": "markdown",
   "metadata": {
    "colab_type": "text",
    "id": "VMneHOxYlSW6"
   },
   "source": [
    "## **B. Data Structures [7]**\n",
    "Python has several data structures for efficient data organization. We will now look a little bit closer to the most important ones: \n",
    "- A List is a collection which is *ordered* and *changeable (mutable)*. It allows for *duplicate members*.\n",
    "- A Tuple is a collection which is *ordered* and *unchangeable (immutable)*. It allows for *duplicate members*.\n",
    "- A Dictionary is a collection which is *unordered*, *changeable (mutable)* and *indexed*. *No duplicate* keys allowed"
   ]
  },
  {
   "cell_type": "markdown",
   "metadata": {
    "colab_type": "text",
    "id": "uAbzKMWRlSW7"
   },
   "source": [
    "#### **B1. Lists**\n",
    "**Tasks**:\n",
    "1. Create a list which contains the values 1 to 9. **Print out** the **length** of the list and compute the **sum** of the first and last entry. Use *indexing* to access these entries **[1.5]**\n",
    "2. Set the first entry of this list to 100 and append the value of 99 to the list. Again **print out** the **length** of this and compute the **sum** of the first and last entry by using *indexing*. **[1.5]**"
   ]
  },
  {
   "cell_type": "code",
   "execution_count": 6,
   "metadata": {
    "colab": {},
    "colab_type": "code",
    "id": "IvUaWAxllSW7"
   },
   "outputs": [],
   "source": [
    "# Create your list here\n",
    "\n",
    "int_list  = [i for i in range(1,10)]"
   ]
  },
  {
   "cell_type": "code",
   "execution_count": 7,
   "metadata": {
    "colab": {},
    "colab_type": "code",
    "id": "MqPtw88hlSW_"
   },
   "outputs": [],
   "source": [
    "# Compute the length of the list\n",
    "\n",
    "size = len(int_list)"
   ]
  },
  {
   "cell_type": "code",
   "execution_count": 8,
   "metadata": {
    "colab": {},
    "colab_type": "code",
    "id": "kA1ziwajlSXD"
   },
   "outputs": [],
   "source": [
    "# Compute the sum of the first and last entry by using indexing.\n",
    "\n",
    "sum = int_list[0] + int_list[-1] "
   ]
  },
  {
   "cell_type": "code",
   "execution_count": 9,
   "metadata": {
    "colab": {
     "base_uri": "https://localhost:8080/",
     "height": 34
    },
    "colab_type": "code",
    "id": "HM7lWx_MlSXG",
    "outputId": "adb4aa1b-1cc6-4993-a7ab-23887fad1451"
   },
   "outputs": [
    {
     "name": "stdout",
     "output_type": "stream",
     "text": [
      "9\n"
     ]
    }
   ],
   "source": [
    "# Print out the length of the list this cell\n",
    "\n",
    "print(size)"
   ]
  },
  {
   "cell_type": "code",
   "execution_count": 10,
   "metadata": {
    "colab": {
     "base_uri": "https://localhost:8080/",
     "height": 34
    },
    "colab_type": "code",
    "id": "MSe06l18lSXJ",
    "outputId": "2161de09-7ac1-46a7-e4be-70c69f436cc3"
   },
   "outputs": [
    {
     "name": "stdout",
     "output_type": "stream",
     "text": [
      "10\n"
     ]
    }
   ],
   "source": [
    "# Print out the sum of first and last entry in this cell\n",
    "print(sum)"
   ]
  },
  {
   "cell_type": "code",
   "execution_count": 11,
   "metadata": {
    "colab": {},
    "colab_type": "code",
    "id": "EmP2wmhYlSXM"
   },
   "outputs": [],
   "source": [
    "# Modify the elements of your list in this cell\n",
    "\n",
    "int_list[0] = 100\n",
    "int_list.append(int(99))"
   ]
  },
  {
   "cell_type": "code",
   "execution_count": 12,
   "metadata": {
    "colab": {},
    "colab_type": "code",
    "id": "Cer6f2LblSXQ"
   },
   "outputs": [],
   "source": [
    "# Compute the length of the list\n",
    "\n",
    "size =  len(int_list)"
   ]
  },
  {
   "cell_type": "code",
   "execution_count": 13,
   "metadata": {
    "colab": {},
    "colab_type": "code",
    "id": "o2QMh5PflSXT"
   },
   "outputs": [],
   "source": [
    "# Compute the sum of the first and last entry by using indexing.\n",
    "\n",
    "sum = int_list[0] + int_list[-1]"
   ]
  },
  {
   "cell_type": "code",
   "execution_count": 14,
   "metadata": {
    "colab": {
     "base_uri": "https://localhost:8080/",
     "height": 34
    },
    "colab_type": "code",
    "id": "gCf6niG_lSXW",
    "outputId": "5ff93f41-dae6-4063-883a-39e9a3136606"
   },
   "outputs": [
    {
     "name": "stdout",
     "output_type": "stream",
     "text": [
      "10\n"
     ]
    }
   ],
   "source": [
    "# Print out the length of the list in this cell\n",
    "\n",
    "print(size)"
   ]
  },
  {
   "cell_type": "code",
   "execution_count": 15,
   "metadata": {
    "colab": {
     "base_uri": "https://localhost:8080/",
     "height": 34
    },
    "colab_type": "code",
    "id": "zVt4qRpDlSXZ",
    "outputId": "2e4ce06d-bb4e-4ecb-a38d-2103c0838715"
   },
   "outputs": [
    {
     "name": "stdout",
     "output_type": "stream",
     "text": [
      "199\n"
     ]
    }
   ],
   "source": [
    "# Print out the sum of first and last entry in this cell\n",
    "\n",
    "print(sum)"
   ]
  },
  {
   "cell_type": "markdown",
   "metadata": {
    "colab_type": "text",
    "id": "uUCH_NZTlSXc"
   },
   "source": [
    "#### **B2. Tuples**\n",
    "\n",
    "**Task**:\n",
    "1. Create a tuple which contains the same values as the previously defined list. **[0.5]**\n",
    "2. Try to change the second element of this tuple to 77 and run the script. Describe which error occurs and why. Make sure to comment this line of code afterwards otherwise cells below will not be executed! **[1]**"
   ]
  },
  {
   "cell_type": "code",
   "execution_count": 16,
   "metadata": {
    "colab": {
     "base_uri": "https://localhost:8080/",
     "height": 34
    },
    "colab_type": "code",
    "id": "Blha-UqRlSXc",
    "outputId": "330f3bf5-b865-4d0c-ab14-9bd9fd8addb4"
   },
   "outputs": [
    {
     "name": "stdout",
     "output_type": "stream",
     "text": [
      "(100, 2, 3, 4, 5, 6, 7, 8, 9, 99)\n"
     ]
    }
   ],
   "source": [
    "# Create the tuple in this cell\n",
    "\n",
    "tup_list = tuple(int_list)\n",
    "\n",
    "print(tup_list)"
   ]
  },
  {
   "cell_type": "code",
   "execution_count": 17,
   "metadata": {
    "colab": {},
    "colab_type": "code",
    "id": "VCL7giyGlSXf"
   },
   "outputs": [],
   "source": [
    "# Try to change the 2nd element of this tuple\n",
    "# tup_list[1] = 100\n",
    "# First execute the code (Cell > Run All) and inspect the error.\n",
    "# Afterwards make sure to comment all code within this cell - otherwise cells below will not be executed!"
   ]
  },
  {
   "cell_type": "markdown",
   "metadata": {
    "colab_type": "text",
    "id": "reOjSl_dlSXm"
   },
   "source": [
    "Write your **answer** about which error occurs and why **here**:\n",
    "\n",
    "TypeError: 'tuple' object does not support item assignment\n",
    "\n",
    "This the error recieved when we try to modify the elements in tuple as basically tuple is immutable i.e. we cannot modify elements inside tuple once assigned.\n",
    "---\n",
    "\n",
    "\n"
   ]
  },
  {
   "cell_type": "markdown",
   "metadata": {
    "colab_type": "text",
    "id": "u4bZoz-slSXn"
   },
   "source": [
    "#### **B3. Dictionaries**\n",
    "\n",
    "**Tasks**:\n",
    "1. Create a dictionary which contains the following *key-value* pairs: *City* - *Bonn*, *Street* - *Nussallee*, *HouseNumber* - 15.<br /> Get the value of *HouseNumber* and **print it out**. **[1]**\n",
    "2. Add the key-value pair *LectureRoom* : *14* to this dictionary. Finally **print out** all **keys** and **values** of this dictionary. **[1.5]**"
   ]
  },
  {
   "cell_type": "code",
   "execution_count": 18,
   "metadata": {
    "colab": {},
    "colab_type": "code",
    "id": "RgvlqmWTlSXn"
   },
   "outputs": [],
   "source": [
    "# Create the dictionary here\n",
    "\n",
    "dic = {\"City\":\"Bonn\",\"Street\":\"Nussalee\",\"HouseNumber\":\"15\"}"
   ]
  },
  {
   "cell_type": "code",
   "execution_count": 19,
   "metadata": {
    "colab": {
     "base_uri": "https://localhost:8080/",
     "height": 34
    },
    "colab_type": "code",
    "id": "kz8k1FhvlSXq",
    "outputId": "890b76bd-4102-40bc-8e60-a23f4f1722b1"
   },
   "outputs": [
    {
     "name": "stdout",
     "output_type": "stream",
     "text": [
      "15\n"
     ]
    }
   ],
   "source": [
    "# Get the value of 'HouseNumber' and print it in this cell\n",
    "\n",
    "val =  dic.get(\"HouseNumber\")\n",
    "\n",
    "print(val)"
   ]
  },
  {
   "cell_type": "code",
   "execution_count": 20,
   "metadata": {
    "colab": {},
    "colab_type": "code",
    "id": "lE1wU84jlSXs"
   },
   "outputs": [],
   "source": [
    "# Add key-value pair\n",
    "dic[\"LectureRoom\"] = 14"
   ]
  },
  {
   "cell_type": "code",
   "execution_count": 21,
   "metadata": {
    "colab": {
     "base_uri": "https://localhost:8080/",
     "height": 85
    },
    "colab_type": "code",
    "id": "bFYYarS3lSXv",
    "outputId": "595a15ac-edda-4d88-a484-c0d6a2071490"
   },
   "outputs": [
    {
     "name": "stdout",
     "output_type": "stream",
     "text": [
      "City\n",
      "Street\n",
      "HouseNumber\n",
      "LectureRoom\n"
     ]
    }
   ],
   "source": [
    "# Print out all keys of the dict\n",
    "\n",
    "\n",
    "for i in dic:\n",
    "  print(i)"
   ]
  },
  {
   "cell_type": "code",
   "execution_count": 22,
   "metadata": {
    "colab": {
     "base_uri": "https://localhost:8080/",
     "height": 85
    },
    "colab_type": "code",
    "id": "uCvW_iKzlSXx",
    "outputId": "893fce77-2ee1-4c28-fad2-5093d61877fb"
   },
   "outputs": [
    {
     "name": "stdout",
     "output_type": "stream",
     "text": [
      "Bonn\n",
      "Nussalee\n",
      "15\n",
      "14\n"
     ]
    }
   ],
   "source": [
    "# Print out all values of the dict\n",
    "for i in dic.values():\n",
    "\n",
    "  print(i)"
   ]
  },
  {
   "cell_type": "markdown",
   "metadata": {
    "colab_type": "text",
    "id": "-22kkGuglSX2"
   },
   "source": [
    "## **C. Conditionals and Loops [4]**"
   ]
  },
  {
   "cell_type": "markdown",
   "metadata": {
    "colab_type": "text",
    "id": "mxICMCaqlSX2"
   },
   "source": [
    "**Tasks:**\n",
    "1. You are given a list which contains multiple lists itself which we assign to the variable called *nested_list*. **Print out** the length of *nested_list* and write a *for loop* which **prints** the **length** of each individual list within the *nested_list*. **[2]**\n",
    "2. Sum up all entries in the nested list by using nested *for loops*. If a entry is equal to zero **print** the string *'Found zero element**. Finally **print out** the result of the **sum**. **[2]**"
   ]
  },
  {
   "cell_type": "code",
   "execution_count": 23,
   "metadata": {
    "colab": {
     "base_uri": "https://localhost:8080/",
     "height": 51
    },
    "colab_type": "code",
    "id": "qhz8YCixlSX3",
    "outputId": "1e69b53c-733c-4131-8a13-e5312b5d5aa3"
   },
   "outputs": [
    {
     "name": "stdout",
     "output_type": "stream",
     "text": [
      "0\n",
      "0\n"
     ]
    }
   ],
   "source": [
    "# Python is picky with tabs! All code you want to run within a loop or condition needs to be indented by 4 spaces.\n",
    "# In case the loop or condition in nested within another loop or condition it needs to be indented by \n",
    "# 8 spaces and so on.\n",
    "\n",
    "# Example\n",
    "for i in range(1):\n",
    "    print(i)             # -> 4 spaces before the print statement\n",
    "    for j in range(1):   # -> 4 spaces before for begins\n",
    "        print(j)         # -> 8 spaces before the print statement"
   ]
  },
  {
   "cell_type": "code",
   "execution_count": 24,
   "metadata": {
    "colab": {},
    "colab_type": "code",
    "id": "v_RK7y1UlSX6"
   },
   "outputs": [],
   "source": [
    "# You are a given a nested list\n",
    "nested_list = [[1,2,3,0],\n",
    "               [4,5,0,6, 5],\n",
    "               [7,0,9,0,10, -10]]"
   ]
  },
  {
   "cell_type": "code",
   "execution_count": 25,
   "metadata": {
    "colab": {
     "base_uri": "https://localhost:8080/",
     "height": 34
    },
    "colab_type": "code",
    "id": "e2Fb_sC0lSX_",
    "outputId": "b2bd19e6-1722-4c5f-e3cd-66c13cfbb19a"
   },
   "outputs": [
    {
     "name": "stdout",
     "output_type": "stream",
     "text": [
      "3\n"
     ]
    }
   ],
   "source": [
    "# Print out the length of nested_list in this cell\n",
    "print(len(nested_list))"
   ]
  },
  {
   "cell_type": "code",
   "execution_count": 26,
   "metadata": {
    "colab": {
     "base_uri": "https://localhost:8080/",
     "height": 68
    },
    "colab_type": "code",
    "id": "HxqEDuV1lSYC",
    "outputId": "29dd151d-135f-4666-ad18-1beb3bb6045a"
   },
   "outputs": [
    {
     "name": "stdout",
     "output_type": "stream",
     "text": [
      "4\n",
      "5\n",
      "6\n"
     ]
    }
   ],
   "source": [
    "# Write the code to print the length of each individual list within the nested_list in this cell by using a loop\n",
    "for i in range(len(nested_list)):\n",
    "  print(len(nested_list[i]))\n"
   ]
  },
  {
   "cell_type": "code",
   "execution_count": 27,
   "metadata": {
    "colab": {},
    "colab_type": "code",
    "id": "zV-anw0YlSYF"
   },
   "outputs": [],
   "source": [
    "# Write the code to sum up all entries in nested_list in this cell\n",
    "sum = 0\n",
    "\n",
    "for i in range(len(nested_list)):\n",
    "  for j in range(len(nested_list[i])):\n",
    "    sum += nested_list[i][j]"
   ]
  },
  {
   "cell_type": "code",
   "execution_count": 28,
   "metadata": {
    "colab": {
     "base_uri": "https://localhost:8080/",
     "height": 34
    },
    "colab_type": "code",
    "id": "w4kk9A7DlSYH",
    "outputId": "07b3933b-1b81-4a83-a228-db85c89623c6"
   },
   "outputs": [
    {
     "name": "stdout",
     "output_type": "stream",
     "text": [
      "42\n"
     ]
    }
   ],
   "source": [
    "# Print out the result of the sum in this cell\n",
    "\n",
    "print(sum)"
   ]
  },
  {
   "cell_type": "markdown",
   "metadata": {
    "colab_type": "text",
    "id": "mUkT3AOllSYK"
   },
   "source": [
    "## **D. Functions [3]**\n",
    "Functions can help you to organize and structure your code, while keeping the effort for redundant tasks low. For an even better organization (especially for bigger projects), it usually makes sense to distribute parts of your code to multiple files (so called modules). \n",
    "\n",
    "**Hint:** Whenever you have to write the same code at least twice: make a function for it!"
   ]
  },
  {
   "cell_type": "markdown",
   "metadata": {
    "colab_type": "text",
    "id": "n67VGSpUlSYL"
   },
   "source": [
    "**Tasks**:\n",
    "1. Create a python file 'utilities.py'. Write in there a function called ```sum_nested_list(...)``` which takes as input parameter a nested list and returns the sum of all entries **[2]**\n",
    "2. Import the the previously created module and pass the given variable *another_nested_list* to your function and **print** the **result**. **[1]**"
   ]
  },
  {
   "cell_type": "code",
   "execution_count": 29,
   "metadata": {
    "colab": {},
    "colab_type": "code",
    "id": "8MEmjl2TlSYM"
   },
   "outputs": [],
   "source": [
    "# Given variable another_nested_list \n",
    "another_nested_list = [[22, -22, 33], [-33, 44, 55], [-55, -44, 1, -2]]"
   ]
  },
  {
   "cell_type": "code",
   "execution_count": 30,
   "metadata": {
    "colab": {},
    "colab_type": "code",
    "id": "lPG6mq4elSYP"
   },
   "outputs": [],
   "source": [
    "# Call your function here\n",
    "from utilities import sum_nested_list"
   ]
  },
  {
   "cell_type": "code",
   "execution_count": 31,
   "metadata": {
    "colab": {
     "base_uri": "https://localhost:8080/",
     "height": 34
    },
    "colab_type": "code",
    "id": "d8KR6Q3klSYR",
    "outputId": "d16b8607-5c4a-4a83-8f38-7039f4e9fad8"
   },
   "outputs": [
    {
     "name": "stdout",
     "output_type": "stream",
     "text": [
      "-1\n"
     ]
    }
   ],
   "source": [
    "# Print out the sum of all entries here\n",
    "sum = sum_nested_list(another_nested_list)\n",
    "\n",
    "print(sum)"
   ]
  },
  {
   "cell_type": "markdown",
   "metadata": {
    "colab_type": "text",
    "id": "dTfO2Y0HlSYW"
   },
   "source": [
    "## **E. Numpy [16.5]**\n",
    "#### **E1. Initialization**\n",
    "Numpy is the most used module for numerical applications in python. It handles matrices very efficiently and has a big library for linear algebra.\n",
    "<br>**Tasks:**\n",
    "1. import numpy **[0.5]**\n",
    "2. create and print a ... **[1]**\n",
    "   - ... 3x4 matrix with zeros\n",
    "   - ... 4x3x3 matrix with ones\n",
    "   - ... 3x3 identity matrix\n",
    "   - ... array with the values from 0 to 4 (integer)"
   ]
  },
  {
   "cell_type": "code",
   "execution_count": 32,
   "metadata": {
    "colab": {},
    "colab_type": "code",
    "id": "HOSxePH0lSYW"
   },
   "outputs": [],
   "source": [
    "# Import numpy here as np\n",
    "import numpy as np"
   ]
  },
  {
   "cell_type": "code",
   "execution_count": 33,
   "metadata": {
    "colab": {
     "base_uri": "https://localhost:8080/",
     "height": 68
    },
    "colab_type": "code",
    "id": "ijbQ3X9clSYZ",
    "outputId": "1027adda-2988-4589-9bc6-43975f487db5"
   },
   "outputs": [
    {
     "name": "stdout",
     "output_type": "stream",
     "text": [
      "[[0. 0. 0. 0.]\n",
      " [0. 0. 0. 0.]\n",
      " [0. 0. 0. 0.]]\n"
     ]
    }
   ],
   "source": [
    "# Zero matrix\n",
    "\n",
    "zeros = np.zeros((3,4))\n",
    "print(zeros)"
   ]
  },
  {
   "cell_type": "code",
   "execution_count": 34,
   "metadata": {
    "colab": {
     "base_uri": "https://localhost:8080/",
     "height": 255
    },
    "colab_type": "code",
    "id": "LS9Rt316lSYc",
    "outputId": "f4e4790e-fdb2-45ee-85a5-b9df22131caf"
   },
   "outputs": [
    {
     "name": "stdout",
     "output_type": "stream",
     "text": [
      "[[[1. 1. 1.]\n",
      "  [1. 1. 1.]\n",
      "  [1. 1. 1.]\n",
      "  [1. 1. 1.]]\n",
      "\n",
      " [[1. 1. 1.]\n",
      "  [1. 1. 1.]\n",
      "  [1. 1. 1.]\n",
      "  [1. 1. 1.]]\n",
      "\n",
      " [[1. 1. 1.]\n",
      "  [1. 1. 1.]\n",
      "  [1. 1. 1.]\n",
      "  [1. 1. 1.]]]\n"
     ]
    }
   ],
   "source": [
    "# Ones: 3 dimensional matrix\n",
    "\n",
    "ones = np.ones((3,4,3))\n",
    "\n",
    "print(ones)"
   ]
  },
  {
   "cell_type": "code",
   "execution_count": 35,
   "metadata": {
    "colab": {
     "base_uri": "https://localhost:8080/",
     "height": 68
    },
    "colab_type": "code",
    "id": "DMz8dqGJlSYh",
    "outputId": "88106e5b-f032-4c56-ce64-d5969d5af431"
   },
   "outputs": [
    {
     "name": "stdout",
     "output_type": "stream",
     "text": [
      "[[1. 0. 0.]\n",
      " [0. 1. 0.]\n",
      " [0. 0. 1.]]\n"
     ]
    }
   ],
   "source": [
    "# Identity Matrix\n",
    "\n",
    "idn = np.identity(3)\n",
    "\n",
    "print(idn)"
   ]
  },
  {
   "cell_type": "code",
   "execution_count": 36,
   "metadata": {
    "colab": {
     "base_uri": "https://localhost:8080/",
     "height": 34
    },
    "colab_type": "code",
    "id": "dfgJeJL8lSYl",
    "outputId": "837fd113-72ce-4a31-fdf5-f64e56b794be"
   },
   "outputs": [
    {
     "name": "stdout",
     "output_type": "stream",
     "text": [
      "[0 1 2 3 4]\n"
     ]
    }
   ],
   "source": [
    "# arange\n",
    "\n",
    "arr = np.arange(5)\n",
    "\n",
    "print(arr)"
   ]
  },
  {
   "cell_type": "markdown",
   "metadata": {
    "colab_type": "text",
    "id": "Vl9dmZI3lSYn"
   },
   "source": [
    "#### **E2. Random numbers**\n",
    "\n",
    "Random sampling is essential in probabilistic robotics theory.\n",
    "\n",
    "**Tasks:**\n",
    "1. Randomly sample 1000 values according to a **uninform distribution** defined in the range between -10 and 10.  **[0.5]**\n",
    "2. Randomly sample 1000 values according to a **normal distribution** with mean 0 and standard deviation 3. **[0.5]**\n",
    "3. Plot histograms of the sampled values for both sets of values. **Hint:** Use matplotlib for the visualization. See *matplotlib.pyplot.hist*. **[1]**"
   ]
  },
  {
   "cell_type": "code",
   "execution_count": 37,
   "metadata": {
    "colab": {},
    "colab_type": "code",
    "id": "ygxNIW1MlSYo"
   },
   "outputs": [],
   "source": [
    "# Uniform sampling\n",
    "\n",
    "rand_uni = np.random.uniform(-10,10,1000)\n"
   ]
  },
  {
   "cell_type": "code",
   "execution_count": 38,
   "metadata": {
    "colab": {},
    "colab_type": "code",
    "id": "7g4H4lHmlSYq"
   },
   "outputs": [],
   "source": [
    "# Normal distributed sampling\n",
    "  \n",
    "rand_nor = np.random.normal(0,3,1000)"
   ]
  },
  {
   "cell_type": "code",
   "execution_count": 39,
   "metadata": {
    "colab": {
     "base_uri": "https://localhost:8080/",
     "height": 514
    },
    "colab_type": "code",
    "id": "znVerKcqlSYs",
    "outputId": "888ddf72-4494-46d1-a176-a111b4eaa0c3"
   },
   "outputs": [
    {
     "data": {
      "image/png": "[encoded data removed]",
      "text/plain": [
       "<Figure size 432x288 with 1 Axes>"
      ]
     },
     "metadata": {
      "needs_background": "light"
     },
     "output_type": "display_data"
    },
    {
     "data": {
      "image/png": "[encoded data removed]",
      "text/plain": [
       "<Figure size 432x288 with 1 Axes>"
      ]
     },
     "metadata": {
      "needs_background": "light"
     },
     "output_type": "display_data"
    }
   ],
   "source": [
    "# Visualization\n",
    "import matplotlib\n",
    "import matplotlib.pyplot as plt\n",
    "\n",
    "plt.hist(rand_uni)\n",
    "plt.show()\n",
    "plt.hist(rand_nor)\n",
    "plt.show()"
   ]
  },
  {
   "cell_type": "markdown",
   "metadata": {
    "colab_type": "text",
    "id": "jS41DE6llSY1"
   },
   "source": [
    "4. Compute and print mean and standard deviations for both sets of values."
   ]
  },
  {
   "cell_type": "code",
   "execution_count": 40,
   "metadata": {
    "colab": {
     "base_uri": "https://localhost:8080/",
     "height": 85
    },
    "colab_type": "code",
    "id": "eQd2OFEAlSY2",
    "outputId": "2733dc91-b98c-4115-e700-3b79deb0d0c9"
   },
   "outputs": [
    {
     "name": "stdout",
     "output_type": "stream",
     "text": [
      "Uniform Standard Deviation 5.72478196712674\n",
      "Uniform Mean 0.23741246368487842\n",
      "Normal Standard Deviation 2.8526706690990515\n",
      "Normal Mean -0.02167528035566977\n"
     ]
    }
   ],
   "source": [
    "# uniform\n",
    "print(\"Uniform Standard Deviation\",np.std(rand_uni))\n",
    "print(\"Uniform Mean\",np.mean(rand_uni))\n",
    "# normal\n",
    "print(\"Normal Standard Deviation\",np.std(rand_nor))\n",
    "print(\"Normal Mean\",np.mean(rand_nor))"
   ]
  },
  {
   "cell_type": "markdown",
   "metadata": {
    "colab_type": "text",
    "id": "g9xrOy9zlSY6"
   },
   "source": [
    "#### **E3. Images: Cube Slicing**\n",
    "Images are one of the most important data types in photogrammetry, so that the handling of these should feel quite familiar to you.\n",
    "An image in python is typically represented as a 3 dimensional numpy array *(rows, cols, channel)*. We will use matplotlib for the visualization and skimage for reading and writing to disk. "
   ]
  },
  {
   "cell_type": "markdown",
   "metadata": {
    "colab_type": "text",
    "id": "n3i5uf8wlSY6"
   },
   "source": [
    "**Tasks:**\n",
    "1. Load and visualize the image: *images/baboon-rgb.jpg*, **Hint:** use ```skimage.io.imread(...)``` for loading the image, and ```plt.imshow()``` for plotting. **[1]**\n",
    "2. print the shape of the image as well as the underlying data type. **[0.5]**\n",
    "3. create two variables which hold the left and the right half of the image, respectively. Make sure that both parts have the same size and plot both images. **Hint:** use subplots. **[1]**\n",
    "4. flip the right image along a vertical axis, plot the result. **[1]**\n",
    "5. Convert the left and the right flipped image to uint8 for later computations. **[0.5]**\n",
    "6. Compute the absolute difference between the left and the right flipped image. **[0.5]**\n",
    "7. Convert the difference image back to uint8, visualize the resulting image. What can you see? Explain the colors you can see. **[3]**"
   ]
  },
  {
   "cell_type": "code",
   "execution_count": 41,
   "metadata": {
    "colab": {},
    "colab_type": "code",
    "id": "OTF9EX2QlSY7"
   },
   "outputs": [],
   "source": [
    "# Import necessary modules here:\n",
    "from skimage import io\n",
    "from skimage.util import compare_images"
   ]
  },
  {
   "cell_type": "code",
   "execution_count": 42,
   "metadata": {
    "colab": {
     "base_uri": "https://localhost:8080/",
     "height": 286
    },
    "colab_type": "code",
    "id": "LfwBAU1blSY-",
    "outputId": "040cff6d-1469-4a0d-beaa-2493a5dc2be2"
   },
   "outputs": [
    {
     "data": {
      "text/plain": [
       "<matplotlib.image.AxesImage at 0x7ff26d8dafd0>"
      ]
     },
     "execution_count": 42,
     "metadata": {},
     "output_type": "execute_result"
    },
    {
     "data": {
      "image/png": "[encoded data removed]",
      "text/plain": [
       "<Figure size 432x288 with 1 Axes>"
      ]
     },
     "metadata": {
      "needs_background": "light"
     },
     "output_type": "display_data"
    }
   ],
   "source": [
    "# Load and visualize image\n",
    "\n",
    "img = io.imread(\"data/cube.jpg\")\n",
    "plt.imshow(img)"
   ]
  },
  {
   "cell_type": "code",
   "execution_count": 43,
   "metadata": {
    "colab": {
     "base_uri": "https://localhost:8080/",
     "height": 34
    },
    "colab_type": "code",
    "id": "NDUWZxVrlSZB",
    "outputId": "0b0cd5d5-8a9b-4a5e-e0e6-0e0d02332acd"
   },
   "outputs": [
    {
     "name": "stdout",
     "output_type": "stream",
     "text": [
      "Shape:  (950, 950, 3) Data Type : <class 'numpy.ndarray'>\n"
     ]
    }
   ],
   "source": [
    "# print the shape and underlying data type\n",
    "print(\"Shape: \",img.shape,\"Data Type :\",type(img))"
   ]
  },
  {
   "cell_type": "code",
   "execution_count": 44,
   "metadata": {
    "colab": {
     "base_uri": "https://localhost:8080/",
     "height": 34
    },
    "colab_type": "code",
    "id": "Kh4tzifDlSZH",
    "outputId": "64c3f710-911c-40f9-f97a-8a8a22b2290f"
   },
   "outputs": [
    {
     "name": "stdout",
     "output_type": "stream",
     "text": [
      "(950, 475, 3) (950, 475, 3)\n"
     ]
    }
   ],
   "source": [
    "# Split image in left and right half:\n",
    "img_left = img[:,:475,:]\n",
    "img_right = img[:,475:,:]\n",
    "# print shapes:\n",
    "print(img_left.shape,img_right.shape)"
   ]
  },
  {
   "cell_type": "code",
   "execution_count": 45,
   "metadata": {
    "colab": {
     "base_uri": "https://localhost:8080/",
     "height": 298
    },
    "colab_type": "code",
    "id": "zNF-VIwllSZK",
    "outputId": "c3441732-a653-4f85-866c-1abb4bf9310f"
   },
   "outputs": [
    {
     "data": {
      "text/plain": [
       "<matplotlib.image.AxesImage at 0x7ff26d857970>"
      ]
     },
     "execution_count": 45,
     "metadata": {},
     "output_type": "execute_result"
    },
    {
     "data": {
      "image/png": "[encoded data removed]",
      "text/plain": [
       "<Figure size 432x288 with 2 Axes>"
      ]
     },
     "metadata": {
      "needs_background": "light"
     },
     "output_type": "display_data"
    }
   ],
   "source": [
    "# Plotting left and right image\n",
    "\n",
    "fig,a= plt.subplots(1,2)\n",
    "a[0].set_title(\"Left Image\")\n",
    "a[0].imshow(img_left)\n",
    "a[1].set_title(\"Right Image\")\n",
    "a[1].imshow(img_right)"
   ]
  },
  {
   "cell_type": "code",
   "execution_count": 62,
   "metadata": {
    "colab": {
     "base_uri": "https://localhost:8080/",
     "height": 286
    },
    "colab_type": "code",
    "id": "8kKtDKmWlSZN",
    "outputId": "319da75f-1343-494b-ddbb-1b716ad2568c"
   },
   "outputs": [
    {
     "data": {
      "text/plain": [
       "<matplotlib.image.AxesImage at 0x7ff27cd8fa30>"
      ]
     },
     "execution_count": 62,
     "metadata": {},
     "output_type": "execute_result"
    },
    {
     "data": {
      "image/png": "[encoded data removed]",
      "text/plain": [
       "<Figure size 432x288 with 1 Axes>"
      ]
     },
     "metadata": {
      "needs_background": "light"
     },
     "output_type": "display_data"
    }
   ],
   "source": [
    "# flip right image and plot the result:\n",
    "\n",
    "img_flip_right =  np.flip(img_right)\n",
    "\n",
    "plt.imshow(img_flip_right)"
   ]
  },
  {
   "cell_type": "code",
   "execution_count": 47,
   "metadata": {
    "colab": {
     "base_uri": "https://localhost:8080/",
     "height": 850
    },
    "colab_type": "code",
    "id": "zuJO4jzWlSZP",
    "outputId": "f3ff64ad-4a6c-4681-a422-79ec52d3c1da"
   },
   "outputs": [
    {
     "data": {
      "text/plain": [
       "array([[[255., 255., 255.],\n",
       "        [255., 255., 255.],\n",
       "        [255., 255., 255.],\n",
       "        ...,\n",
       "        [255., 255., 255.],\n",
       "        [255., 255., 255.],\n",
       "        [255., 255., 255.]],\n",
       "\n",
       "       [[255., 255., 255.],\n",
       "        [255., 255., 255.],\n",
       "        [255., 255., 255.],\n",
       "        ...,\n",
       "        [255., 255., 255.],\n",
       "        [255., 255., 255.],\n",
       "        [255., 255., 255.]],\n",
       "\n",
       "       [[255., 255., 255.],\n",
       "        [255., 255., 255.],\n",
       "        [255., 255., 255.],\n",
       "        ...,\n",
       "        [255., 255., 255.],\n",
       "        [255., 255., 255.],\n",
       "        [255., 255., 255.]],\n",
       "\n",
       "       ...,\n",
       "\n",
       "       [[255., 255., 255.],\n",
       "        [255., 255., 255.],\n",
       "        [255., 255., 255.],\n",
       "        ...,\n",
       "        [255., 255., 255.],\n",
       "        [255., 255., 255.],\n",
       "        [255., 255., 255.]],\n",
       "\n",
       "       [[255., 255., 255.],\n",
       "        [255., 255., 255.],\n",
       "        [255., 255., 255.],\n",
       "        ...,\n",
       "        [255., 255., 255.],\n",
       "        [255., 255., 255.],\n",
       "        [255., 255., 255.]],\n",
       "\n",
       "       [[255., 255., 255.],\n",
       "        [255., 255., 255.],\n",
       "        [255., 255., 255.],\n",
       "        ...,\n",
       "        [255., 255., 255.],\n",
       "        [255., 255., 255.],\n",
       "        [255., 255., 255.]]])"
      ]
     },
     "execution_count": 47,
     "metadata": {},
     "output_type": "execute_result"
    }
   ],
   "source": [
    "# Convert to float \n",
    "\n",
    "img_left.astype(float)\n",
    "img_flip_right.astype(float)"
   ]
  },
  {
   "cell_type": "code",
   "execution_count": 63,
   "metadata": {
    "colab": {},
    "colab_type": "code",
    "id": "_TymXqVilSZV"
   },
   "outputs": [],
   "source": [
    "# compute difference here:\n",
    "\n",
    "# img_diff = np.absolute(np.subtract(img_flip_left,img_flip_right))\n",
    "img_diff = compare_images(img_left, img_flip_right, method='diff')\n"
   ]
  },
  {
   "cell_type": "code",
   "execution_count": 64,
   "metadata": {},
   "outputs": [
    {
     "data": {
      "text/plain": [
       "<matplotlib.image.AxesImage at 0x7ff27cd03370>"
      ]
     },
     "execution_count": 64,
     "metadata": {},
     "output_type": "execute_result"
    },
    {
     "data": {
      "image/png": "[encoded data removed]",
      "text/plain": [
       "<Figure size 432x288 with 1 Axes>"
      ]
     },
     "metadata": {
      "needs_background": "light"
     },
     "output_type": "display_data"
    }
   ],
   "source": [
    "# Convert to uint8:\n",
    "img_diff.astype(dtype='uint8')\n",
    "# Plot differences:\n",
    "\n",
    "plt.imshow(img_diff)\n"
   ]
  },
  {
   "cell_type": "markdown",
   "metadata": {},
   "source": [
    "7. Write your answer here:\n",
    "\n",
    "Each color represents different intensity value assigned for original colour like dark blue is for yellow, cyan is for red, yellowish is for green and light dark blue which you can see in the bottom is orange, in middle we get different colors as we take difference between two images"
   ]
  },
  {
   "cell_type": "markdown",
   "metadata": {
    "colab_type": "text",
    "id": "suUVSMB1lSZe"
   },
   "source": [
    "#### **E4. Point Transformation** \n",
    "Point clouds are a common data type in various areas (surveying, photogrammetry, data analysis...). \n",
    "In the following we have given an L-shaped point cloud [2xn] (*n=200*), on which we want to apply some transformations and visualize the results with matplotlib. \n",
    "\n",
    "**Tasks:**\n",
    "1. Visualize the point cloud. **[0.5]**\n",
    "1. Write a function angle2rotMat(...) that returns the rotation matrix [2x2] for a given rotation angle (in degree). **[0.5]**\n",
    "2. Write for the function a header which describes what the function is doing, as well as the input and output parameter. **[0.5]**\n",
    "3. Create the 2 rotation matrices *R1* and *R2*: the first with an angle of 30[degree] and the second with an angle of 60[degree]. Print both matrices. **[0.5]**\n",
    "4. Rotate the given point cloud by *R1* and save the result in *points_r1*. Be aware of the difference between a matrix multiplication and an elementwise multiplication. **[0.5]**\n",
    "5. Rotate *points_r1* by *R2* and save the result in *points_r2*. **[0.5]**\n",
    "6. Shift points_r2 by the *translation=(3,4)^T* and save the result in *points_t*. **[0.5]**\n",
    "7. Create a figure with 4 subplots. Plot *points*, *points_r1*, *points_r2* and *points_t* in the created subplots, respectively. **[2]**"
   ]
  },
  {
   "cell_type": "code",
   "execution_count": 50,
   "metadata": {
    "colab": {
     "base_uri": "https://localhost:8080/",
     "height": 34
    },
    "colab_type": "code",
    "id": "pra-DIoSlSZe",
    "outputId": "ca89d81b-af98-47e3-b9ad-b8a90a217930"
   },
   "outputs": [
    {
     "name": "stdout",
     "output_type": "stream",
     "text": [
      "Point cloud dimension: (2, 200)\n"
     ]
    }
   ],
   "source": [
    "# generating an L-shaped point cloud.\n",
    "import math\n",
    "\n",
    "np.random.seed(0) # For reproducable results\n",
    "points = np.hstack([np.array([[5,0.5]]).T* np.random.rand(2,100),np.array([[0.5,5]]).T*np.random.rand(2,100)])\n",
    "print('Point cloud dimension:',points.shape)"
   ]
  },
  {
   "cell_type": "code",
   "execution_count": 51,
   "metadata": {
    "colab": {
     "base_uri": "https://localhost:8080/",
     "height": 268
    },
    "colab_type": "code",
    "id": "RapjijailSZg",
    "outputId": "48b54f8f-13d0-4532-f940-b94f1f0689a9"
   },
   "outputs": [
    {
     "data": {
      "image/png": "[encoded data removed]",
      "text/plain": [
       "<Figure size 432x288 with 1 Axes>"
      ]
     },
     "metadata": {
      "needs_background": "light"
     },
     "output_type": "display_data"
    }
   ],
   "source": [
    "# Plot points here\n",
    "\n",
    "plt.plot(points[0,:], points[1,:], 'ro')\n",
    "plt.show()"
   ]
  },
  {
   "cell_type": "code",
   "execution_count": 52,
   "metadata": {
    "colab": {},
    "colab_type": "code",
    "id": "dOH77sDvlSZl"
   },
   "outputs": [],
   "source": [
    "# write angle2rotMat(...):\n",
    "\n",
    "def angle2rotMat(angle):\n",
    "\n",
    "  rotMat = np.array([[math.cos(math.radians(angle)),-(math.sin(math.radians(angle)))],\n",
    "                     [math.sin(math.radians(angle)),math.cos(math.radians(angle))]])\n",
    "\n",
    "  return rotMat"
   ]
  },
  {
   "cell_type": "code",
   "execution_count": 53,
   "metadata": {
    "colab": {
     "base_uri": "https://localhost:8080/",
     "height": 85
    },
    "colab_type": "code",
    "id": "B92MRPOtlSZp",
    "outputId": "be3999e7-5315-4598-b022-d43f660dea26"
   },
   "outputs": [
    {
     "name": "stdout",
     "output_type": "stream",
     "text": [
      "R1:  [[ 0.8660254 -0.5      ]\n",
      " [ 0.5        0.8660254]]\n",
      "R2:  [[ 0.5       -0.8660254]\n",
      " [ 0.8660254  0.5      ]]\n"
     ]
    }
   ],
   "source": [
    "# create rotation matrices\n",
    "\n",
    "\n",
    "R1 = angle2rotMat(30)\n",
    "R2 = angle2rotMat(60)\n",
    "\n",
    "print(\"R1: \",R1)\n",
    "print(\"R2: \",R2)\n"
   ]
  },
  {
   "cell_type": "code",
   "execution_count": 54,
   "metadata": {
    "colab": {},
    "colab_type": "code",
    "id": "_u-7Ce4VlSZv"
   },
   "outputs": [
    {
     "name": "stdout",
     "output_type": "stream",
     "text": [
      "(200, 2)\n"
     ]
    }
   ],
   "source": [
    "# create translation vector\n",
    "\n",
    "T1 = np.array([[3,4]])\n",
    "\n",
    "# apply Transformations \n",
    "\n",
    "points_r1 = np.dot(R1,points)\n",
    "\n",
    "points_r2 = np.dot(R2,points_r1)\n",
    "points_t = np.add(points_r2.transpose(),T1)\n",
    "print(points_t.shape)"
   ]
  },
  {
   "cell_type": "code",
   "execution_count": 55,
   "metadata": {
    "colab": {
     "base_uri": "https://localhost:8080/",
     "height": 281
    },
    "colab_type": "code",
    "id": "Rz0mH8qJlSZy",
    "outputId": "08233a8a-5127-4feb-c494-a61d2f417f39"
   },
   "outputs": [
    {
     "data": {
      "image/png": "[encoded data removed]",
      "text/plain": [
       "<Figure size 432x288 with 4 Axes>"
      ]
     },
     "metadata": {
      "needs_background": "light"
     },
     "output_type": "display_data"
    }
   ],
   "source": [
    "# create subplots and plot results\n",
    "\n",
    "\n",
    "fig,a= plt.subplots(2,2)\n",
    "\n",
    "\n",
    "a[0][0].set_title(\"Original Points\")\n",
    "a[0][0].plot(points[0,:], points[1,:], 'ro')\n",
    "a[0][1].set_title(\"After R1 transformation\")\n",
    "a[0][1].plot(points_r1[0,:],points_r1[1,:],\"ro\")\n",
    "\n",
    "a[1][0].set_title(\"After R2 transformation\")\n",
    "a[1][0].plot(points_r2[0,:],points_r2[1,:],\"ro\")\n",
    "\n",
    "a[1][1].set_title(\"After R1 and R2 transformation and T1 translation\")\n",
    "a[1][1].plot(points_t[:,0],points_t[:,1],\"ro\")\n",
    "\n",
    "plt.show()"
   ]
  },
  {
   "cell_type": "markdown",
   "metadata": {
    "colab_type": "text",
    "id": "gWmoL6BYlSZ0"
   },
   "source": [
    "## **F. Robotic Applications [7.5]**\n",
    "#### **F1. Plot trajectory**"
   ]
  },
  {
   "cell_type": "markdown",
   "metadata": {
    "colab_type": "text",
    "id": "30xA7ihilSZ0"
   },
   "source": [
    "**Tasks:**\n",
    "1. Read robot's odometry data from **odom.data** file. **[0.5]**\n",
    "    - Measurements are stored in rows in the following format: \n",
    "        [*hours*, *minutes*, *seconds*, $\\delta x_i$, $\\delta y_i$], \n",
    "        where *hours*, *minutes*, *seconds* indicate the time when the measurement was acquired. \n",
    "    - The first row contains the first position of the robot in world coordinates ($x_0$, $y_0$).\n",
    "2. Plot the trajectory of the robot in world coordinates. **[2]**\n",
    "    - The trajectory is computed by iteratively applying the measured odometry to the previous position:\n",
    "$$ x_{i+1} = x_{i} + \\delta x_{i},\\qquad y_{i+1} = y_{i} + \\delta y_{i}$$\n",
    "3. Plot the trajectory of the robot in world coordinates from 07:30:00 to 8:00:00. **[1]**"
   ]
  },
  {
   "cell_type": "code",
   "execution_count": 56,
   "metadata": {
    "colab": {},
    "colab_type": "code",
    "id": "n5_8jN8-lSZ1"
   },
   "outputs": [],
   "source": [
    "# 1.\n",
    "x0 = 0\n",
    "y0 = 0\n",
    "\n",
    "filename = \"data/odom.data\"\n",
    "f = open(filename,\"r\")\n",
    "f1 = f.readlines()\n",
    "\n",
    "x0 = f1[0].split(\",\")[3]\n",
    "y0 = f1[0].split(\",\")[4]"
   ]
  },
  {
   "cell_type": "code",
   "execution_count": 57,
   "metadata": {
    "colab": {
     "base_uri": "https://localhost:8080/",
     "height": 282
    },
    "colab_type": "code",
    "id": "ndH3YftZlSZ5",
    "outputId": "ea487a2c-060c-4ab7-9fd0-f2125bf97e12"
   },
   "outputs": [
    {
     "name": "stdout",
     "output_type": "stream",
     "text": [
      "197.884812 353.595486\n"
     ]
    },
    {
     "data": {
      "image/png": "[encoded data removed]",
      "text/plain": [
       "<Figure size 432x288 with 1 Axes>"
      ]
     },
     "metadata": {
      "needs_background": "light"
     },
     "output_type": "display_data"
    }
   ],
   "source": [
    "# 2.\n",
    "X = []\n",
    "Y = []\n",
    "\n",
    "x = float(x0)\n",
    "y = float(y0)\n",
    "count = 0\n",
    "\n",
    "for lines in f1:\n",
    "\n",
    "  if count == 0:\n",
    "    count += 1\n",
    "    continue\n",
    "\n",
    "  line = lines.split(\",\")\n",
    "  \n",
    "  x = x + float(line[3])\n",
    "  y = y + float(line[4])\n",
    "  X.append(x)\n",
    "  Y.append(y)\n",
    "\n",
    "plt.plot(X,Y,\"ro\")\n",
    "print(x,y)"
   ]
  },
  {
   "cell_type": "code",
   "execution_count": 58,
   "metadata": {
    "colab": {
     "base_uri": "https://localhost:8080/",
     "height": 282
    },
    "colab_type": "code",
    "id": "MVjYNqoNlSZ-",
    "outputId": "9eda8747-5c28-4357-b02a-d4368cfe6ac1"
   },
   "outputs": [
    {
     "data": {
      "text/plain": [
       "[<matplotlib.lines.Line2D at 0x7ff26d71f400>]"
      ]
     },
     "execution_count": 58,
     "metadata": {},
     "output_type": "execute_result"
    },
    {
     "data": {
      "image/png": "[encoded data removed]",
      "text/plain": [
       "<Figure size 432x288 with 1 Axes>"
      ]
     },
     "metadata": {
      "needs_background": "light"
     },
     "output_type": "display_data"
    }
   ],
   "source": [
    "# 3.\n",
    "\n",
    "X_plt = []\n",
    "Y_plt = []\n",
    "\n",
    "\n",
    "x_plt = float(x0)\n",
    "y_plt = float(y0)\n",
    "\n",
    "for lines in f1:\n",
    "  \n",
    "  line =  lines.split(\",\")\n",
    "  \n",
    "  x_plt = x_plt + float(line[3])\n",
    "  y_plt = y_plt + float(line[4])\n",
    "\n",
    "  if float(line[0]) == 7.0 and float(line[1]) >= 30.0:\n",
    "\n",
    "    X_plt.append(x_plt)\n",
    "    Y_plt.append(y_plt)\n",
    "\n",
    "  elif float(line[0]) == 8.0:\n",
    "    X_plt.append(x_plt)\n",
    "    Y_plt.append(y_plt)\n",
    "    break\n",
    "\n",
    "\n",
    "plt.plot(X_plt,Y_plt,\"ro\")"
   ]
  },
  {
   "cell_type": "markdown",
   "metadata": {
    "colab_type": "text",
    "id": "PwFTpNzMlSaB"
   },
   "source": [
    "#### **F2. Robot navigation in grid world**\n",
    "Lets assume we have given a robot which is moving in a 2D grid world. We want to visualize the parts of the map which got explored by the robot."
   ]
  },
  {
   "cell_type": "markdown",
   "metadata": {
    "colab_type": "text",
    "id": "-KZlMxOMlSaC"
   },
   "source": [
    "**Tasks:**\n",
    "1. Generate a 5x5 grid world by using a numpy matrix where each cell is initially zero. **[0.5]**\n",
    "2. A point robot navigates on this grid world starting from cell (0,0) that is in the top-left corner of the grid. Implement the navigation actions of the robot and execute the following sequence of commands: *down*, *right*, *up*, *up*, *right*, *right*, *down*, *down*, *down*, *left*. Print the final position of the robot. **[3.0]**\n",
    "3. Mark the cells visited by the robot in 2. on the grid world by setting their value to $1$ and plot the grid world by using `matplotlib`. **[1.5]**"
   ]
  },
  {
   "cell_type": "code",
   "execution_count": 59,
   "metadata": {
    "colab": {},
    "colab_type": "code",
    "id": "wFb4mdt0lSaD"
   },
   "outputs": [],
   "source": [
    "# 1.\n",
    "world = np.zeros((5,5))"
   ]
  },
  {
   "cell_type": "code",
   "execution_count": 60,
   "metadata": {
    "colab": {
     "base_uri": "https://localhost:8080/",
     "height": 34
    },
    "colab_type": "code",
    "id": "uOL0MjmalSaF",
    "outputId": "e082e5d9-fa55-4c72-bcc2-88fcb3c89701"
   },
   "outputs": [
    {
     "name": "stdout",
     "output_type": "stream",
     "text": [
      "[3 2]\n"
     ]
    }
   ],
   "source": [
    "# 2.\n",
    "\n",
    "robot = np.array([0,0])\n",
    "up = np.array([-1,0])\n",
    "down = np.array([1,0])\n",
    "left = np.array([0,-1])\n",
    "right = np.array([0,1])\n",
    "\n",
    "\n",
    "actions =[down,right,up,up,right,right,down,down,down,left]\n",
    "\n",
    "for action in actions:\n",
    "    \n",
    "    if (action+robot)[0] < 0 or (action + robot)[0] > 4 or (action+robot)[1] < 0 or (action + robot)[1] > 4:\n",
    "        continue\n",
    "    robot += action\n",
    "    world[robot[0]][robot[1]] = 1\n",
    "\n",
    "print(robot)"
   ]
  },
  {
   "cell_type": "code",
   "execution_count": 61,
   "metadata": {
    "colab": {
     "base_uri": "https://localhost:8080/",
     "height": 282
    },
    "colab_type": "code",
    "id": "AelILGJYlSaH",
    "outputId": "000be29a-248d-40df-eaba-41e06b55b45f"
   },
   "outputs": [
    {
     "data": {
      "text/plain": [
       "<matplotlib.image.AxesImage at 0x7ff27cce2040>"
      ]
     },
     "execution_count": 61,
     "metadata": {},
     "output_type": "execute_result"
    },
    {
     "data": {
      "image/png": "[encoded data removed]",
      "text/plain": [
       "<Figure size 432x288 with 1 Axes>"
      ]
     },
     "metadata": {
      "needs_background": "light"
     },
     "output_type": "display_data"
    }
   ],
   "source": [
    "# 3.\n",
    "\n",
    "plt.imshow(world)"
   ]
  }
 ],
 "metadata": {
  "colab": {
   "name": "ex-00-Desai.ipynb",
   "provenance": []
  },
  "kernelspec": {
   "display_name": "Python 3",
   "language": "python",
   "name": "python3"
  },
  "language_info": {
   "codemirror_mode": {
    "name": "ipython",
    "version": 3
   },
   "file_extension": ".py",
   "mimetype": "text/x-python",
   "name": "python",
   "nbconvert_exporter": "python",
   "pygments_lexer": "ipython3",
   "version": "3.8.5"
  },
  "toc": {
   "base_numbering": 1,
   "nav_menu": {},
   "number_sections": true,
   "sideBar": true,
   "skip_h1_title": false,
   "title_cell": "Table of Contents",
   "title_sidebar": "Contents",
   "toc_cell": false,
   "toc_position": {},
   "toc_section_display": true,
   "toc_window_display": false
  }
 },
 "nbformat": 4,
 "nbformat_minor": 4
}
